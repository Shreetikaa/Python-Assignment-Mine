{
 "cells": [
  {
   "cell_type": "code",
   "execution_count": 9,
   "metadata": {},
   "outputs": [
    {
     "name": "stdout",
     "output_type": "stream",
     "text": [
      "Avg:20.0\n",
      "Avg:90.0\n",
      "Avg:50.0\n"
     ]
    }
   ],
   "source": [
    "#Question 1\n",
    "\n",
    "class Student:\n",
    "    sum = 0\n",
    "    def __init__(self,name,age,grade):\n",
    "        self.name = name\n",
    "        self.age = age \n",
    "        self.grades = grade\n",
    "\n",
    "    def average_grade(self):\n",
    "        for i in self.grades:\n",
    "            self.sum = self.sum + int(i)\n",
    "            self.avg = self.sum/int(len(self.grades))\n",
    "        print(\"Avg:\" + str(self.avg))\n",
    "\n",
    "someone = Student(\"soneone\",20,[10,20,30])\n",
    "someone.average_grade()\n",
    "noone = Student(\"noone\",15,[100,90,80])\n",
    "noone.average_grade()\n",
    "hi = Student(\"hi\",19,[45,50,55])\n",
    "hi.average_grade()"
   ]
  },
  {
   "cell_type": "code",
   "execution_count": null,
   "metadata": {},
   "outputs": [
    {
     "name": "stdout",
     "output_type": "stream",
     "text": [
      "Hello how \n",
      "I am fine \n"
     ]
    }
   ],
   "source": [
    "#Question 2\n",
    "\n",
    "class Book:\n",
    "\n",
    "    def __init__(self,titl,auth):\n",
    "        self.title = titl\n",
    "        self.author = auth\n",
    "    def short_title(self):\n",
    "        print(self.title[0:10])\n",
    "\n",
    "book1 = Book(\"Hello how are you\",\"shreetika\")\n",
    "book1.short_title()\n",
    "book2 = Book(\"I am fine thank you\",\"shreetika\")\n",
    "book2.short_title()"
   ]
  },
  {
   "cell_type": "code",
   "execution_count": 25,
   "metadata": {},
   "outputs": [
    {
     "name": "stdout",
     "output_type": "stream",
     "text": [
      "Failed: someone\n",
      "Passed: noone\n",
      "Passed: Shikrita\n"
     ]
    }
   ],
   "source": [
    "#Question 3\n",
    "class StudentResult:\n",
    "    def __init__(self,name,age,grade):\n",
    "        self.name = name\n",
    "        self.age = age \n",
    "        self.average_grade = grade\n",
    "\n",
    "    def has_passed(self):\n",
    "        if self.average_grade >= 50:\n",
    "            return True\n",
    "        else:\n",
    "            return False\n",
    " \n",
    "\n",
    "someone = StudentResult(\"someone\",21,9)\n",
    "if someone.has_passed():\n",
    "    print(\"Passed: \"+str(someone.name))\n",
    "if not someone.has_passed():\n",
    "    print(\"Failed: \"+ str(someone.name))\n",
    "\n",
    "noone = StudentResult(\"noone\",20,51)\n",
    "if noone.has_passed():\n",
    "    print(\"Passed: \"+str(noone.name))\n",
    "if not noone.has_passed():\n",
    "    print(\"Failed: \"+ str(noone.name))\n",
    "\n",
    "Shikritia = StudentResult(\"Shikrita\",20,99)\n",
    "if Shikritia.has_passed():\n",
    "    print(\"Passed: \"+str(Shikritia.name))\n",
    "if not Shikritia.has_passed():\n",
    "    print(\"Failed: \"+ str(Shikritia.name))\n"
   ]
  },
  {
   "cell_type": "code",
   "execution_count": 29,
   "metadata": {},
   "outputs": [
    {
     "name": "stdout",
     "output_type": "stream",
     "text": [
      "Total: Rs 7850\n"
     ]
    }
   ],
   "source": [
    "#Question 4\n",
    "\n",
    "class ShoppingCart:\n",
    "    def __init__(self):\n",
    "        self.items = {}  # Dictionary to store items and prices\n",
    "\n",
    "    def add_item(self, name, price):\n",
    "        self.items[name] = price  # Add item to dictionary\n",
    "\n",
    "    def total_price(self):\n",
    "        return sum(self.items.values()) # Calculate total price\n",
    "\n",
    "cart = ShoppingCart()\n",
    "cart.add_item(\"Fruits\", 200)\n",
    "cart.add_item(\"Veggies\", 300)\n",
    "cart.add_item(\"Dairy\", 4000)\n",
    "cart.add_item(\"Bake\", 3000)\n",
    "cart.add_item(\"Chicken\", 350)\n",
    "\n",
    "print(\"Total: Rs\", cart.total_price())"
   ]
  },
  {
   "cell_type": "code",
   "execution_count": 33,
   "metadata": {},
   "outputs": [
    {
     "name": "stdout",
     "output_type": "stream",
     "text": [
      "Word Count: 6\n"
     ]
    }
   ],
   "source": [
    "#Question 5\n",
    "\n",
    "class TextAnalyzer:\n",
    "    def __init__(self, text):\n",
    "        self.text = text\n",
    "\n",
    "    def word_count(self):\n",
    "        return len(self.text.split())  # Split text into words and count them\n",
    "\n",
    "wordssss = TextAnalyzer(\"What is up on hte sky\")\n",
    "print(\"Word Count:\", wordssss.word_count())"
   ]
  },
  {
   "cell_type": "code",
   "execution_count": null,
   "metadata": {},
   "outputs": [
    {
     "name": "stdout",
     "output_type": "stream",
     "text": [
      "Shuffled Playlist:\n",
      "song 3 : art 3\n",
      "song 4 : art 4\n",
      "song2 : art 2\n",
      "song 5 : art 5\n",
      "song 1 : art 1\n"
     ]
    }
   ],
   "source": [
    "import random\n",
    "\n",
    "class Playlist:\n",
    "    def __init__(self):\n",
    "        self.songs = {}  \n",
    "    def add_song(self, title, artist):\n",
    "        self.songs[title] = artist  # Add song to dictionary\n",
    "    def shuffle(self):\n",
    "        shuffled = list(self.songs.items())\n",
    "        random.shuffle(shuffled)  \n",
    "        return shuffled  \n",
    "\n",
    "    def display(self):\n",
    "        for title, artist in self.shuffle():  \n",
    "            print(f\"{title} : {artist}\")\n",
    "\n",
    "# add your favourite songssssss\n",
    "playlist = Playlist()\n",
    "playlist.add_song(\"song 1\", \"art 1\")\n",
    "playlist.add_song(\"song2\", \"art 2\")\n",
    "playlist.add_song(\"song 3\", \"art 3\")\n",
    "playlist.add_song(\"song 4\", \"art 4\")\n",
    "playlist.add_song(\"song 5\", \"art 5\")\n",
    "\n",
    "# Show the new playlist\n",
    "print(\"Shuffled Playlist:\")\n",
    "playlist.display()\n"
   ]
  }
 ],
 "metadata": {
  "kernelspec": {
   "display_name": "env",
   "language": "python",
   "name": "python3"
  },
  "language_info": {
   "codemirror_mode": {
    "name": "ipython",
    "version": 3
   },
   "file_extension": ".py",
   "mimetype": "text/x-python",
   "name": "python",
   "nbconvert_exporter": "python",
   "pygments_lexer": "ipython3",
   "version": "3.10.7"
  }
 },
 "nbformat": 4,
 "nbformat_minor": 2
}
