{
 "cells": [
  {
   "cell_type": "code",
   "execution_count": null,
   "metadata": {},
   "outputs": [
    {
     "name": "stdout",
     "output_type": "stream",
     "text": [
      "4\n",
      "['e', 'e', 'i', 'a']\n"
     ]
    }
   ],
   "source": [
    "#Question 1\n",
    "\n",
    "def count_vowels(text): #function declare\n",
    "    vowelss = [] #empty array for vowels\n",
    "    count = 0 #count of the number of vowels\n",
    "    for i in text:\n",
    "        a = i.lower() #lowercase for anyupper case instance\n",
    "        if a == 'a' or a == 'e' or a == 'i' or a == 'o' or a == 'u': #checking for vowels\n",
    "            count = count + 1\n",
    "            vowelss.append(i)\n",
    "    \n",
    "    print(count)\n",
    "    print(vowelss)\n",
    "\n",
    "count_vowels(\"shreetika\")\n",
    "\n"
   ]
  },
  {
   "cell_type": "code",
   "execution_count": 9,
   "metadata": {},
   "outputs": [
    {
     "name": "stdout",
     "output_type": "stream",
     "text": [
      "max number is: 90\n"
     ]
    }
   ],
   "source": [
    "#Questions 2\n",
    "\n",
    "def find_maximum(list_number):\n",
    "    max = 0 #declaring max = 0\n",
    "    for i in list_number: \n",
    "        if i > max: #checking for maximum number\n",
    "            max = i\n",
    "    print(\"max number is: \" + str(max)) #printing the max number\n",
    "\n",
    "find_maximum([1,2,3,4,5,6,90,25])"
   ]
  },
  {
   "cell_type": "code",
   "execution_count": 18,
   "metadata": {},
   "outputs": [
    {
     "name": "stdout",
     "output_type": "stream",
     "text": [
      "10 x 0 = 0\n",
      "10 x 1 = 10\n",
      "10 x 2 = 20\n",
      "10 x 3 = 30\n",
      "10 x 4 = 40\n",
      "10 x 5 = 50\n",
      "10 x 6 = 60\n",
      "10 x 7 = 70\n",
      "10 x 8 = 80\n",
      "10 x 9 = 90\n",
      "10 x 10 = 100\n"
     ]
    }
   ],
   "source": [
    "#Question 3\n",
    "\n",
    "def multiplication_table(n):\n",
    "    for i in range(11): #taking number from 0 to 10\n",
    "        print(str(n) + \" x \" + str(i) + \" = \" + str((n*i))) #print the multiplication table\n",
    "\n",
    "multiplication_table(10)"
   ]
  },
  {
   "cell_type": "code",
   "execution_count": null,
   "metadata": {},
   "outputs": [
    {
     "name": "stdout",
     "output_type": "stream",
     "text": [
      "longest word is: \n",
      "worldddddd\n"
     ]
    }
   ],
   "source": [
    "#Questions 4\n",
    "\n",
    "\n",
    "def largest_word(phrase): \n",
    "    array = phrase.split()  \n",
    "    long = 0\n",
    "    long_word = ''\n",
    "    \n",
    "    for i in array: \n",
    "        if len(i) > long: #checking for words that are longer than long  \n",
    "            long = len(i)\n",
    "            long_word = i #when found update the long_word also\n",
    "    print(\"longest word is: \")\n",
    "    print(long_word)\n",
    "         \n",
    "\n",
    "largest_word(\"I am shreetika hello worldddddd\")"
   ]
  },
  {
   "cell_type": "code",
   "execution_count": 25,
   "metadata": {},
   "outputs": [
    {
     "name": "stdout",
     "output_type": "stream",
     "text": [
      "36\n"
     ]
    }
   ],
   "source": [
    "#Questions 5\n",
    "\n",
    "\n",
    "def sum_of_list(numbers):\n",
    "    addition = 0 #the of the numbers is 0\n",
    "    for i in numbers:\n",
    "        addition += i #adding each value to the variable addition\n",
    "    print(addition)\n",
    "\n",
    "sum_of_list([1,2,3,4,5,6,7,8]) #calling the function"
   ]
  },
  {
   "cell_type": "code",
   "execution_count": null,
   "metadata": {},
   "outputs": [
    {
     "name": "stdout",
     "output_type": "stream",
     "text": [
      "my name is hello world\n",
      "Output:\n",
      "My Name Is Hello World "
     ]
    }
   ],
   "source": [
    "#Question 6\n",
    "\n",
    "\n",
    "\n",
    "def to_title_case(sentences):\n",
    "    Capital = []\n",
    "    array = sentences.split()\n",
    "    for i in array:\n",
    "        capital = i[0].upper() #making the first letter caps.\n",
    "        Capital.append(capital + i[1:]) #adding to the Capital phrase    \n",
    "    print(sentences)\n",
    "    print(\"Output:\") #providing the output\n",
    "    for i in Capital:\n",
    "        print(i + \" \",end = \"\") #printing a sentence\n",
    "\n",
    "\n",
    "to_title_case(\"my name is hello world\")\n"
   ]
  },
  {
   "cell_type": "code",
   "execution_count": null,
   "metadata": {},
   "outputs": [
    {
     "name": "stdout",
     "output_type": "stream",
     "text": [
      "False\n"
     ]
    }
   ],
   "source": [
    "#Questions 7\n",
    "\n",
    "def isPalindrome(word):\n",
    "    small = word.lower()\n",
    "    if small == small[::-1]: #check if the forward word is equal to reverse word\n",
    "        print(\"True\")\n",
    "    else:\n",
    "        print(\"False\")\n",
    "\n",
    "isPalindrome(\"palindrome\")\n"
   ]
  },
  {
   "cell_type": "code",
   "execution_count": null,
   "metadata": {},
   "outputs": [
    {
     "name": "stdout",
     "output_type": "stream",
     "text": [
      "{'n': 2, 'o': 1, 't': 1, 'h': 1, 'i': 1, 'g': 1}\n"
     ]
    }
   ],
   "source": [
    "#Question 8\n",
    "\n",
    "def char_count(s):\n",
    "    record = {}  #records the words and their count\n",
    "    for i in s:\n",
    "        if i in record.keys():\n",
    "            record[i] = record[i] + 1 #if exists then add 1\n",
    "        else:\n",
    "            record[i] = 1 #if doesn't exist initialize with 1\n",
    "\n",
    "    print(record)\n",
    "\n",
    "char_count(\"nothing\")"
   ]
  }
 ],
 "metadata": {
  "kernelspec": {
   "display_name": "env",
   "language": "python",
   "name": "python3"
  },
  "language_info": {
   "codemirror_mode": {
    "name": "ipython",
    "version": 3
   },
   "file_extension": ".py",
   "mimetype": "text/x-python",
   "name": "python",
   "nbconvert_exporter": "python",
   "pygments_lexer": "ipython3",
   "version": "3.10.7"
  }
 },
 "nbformat": 4,
 "nbformat_minor": 2
}
